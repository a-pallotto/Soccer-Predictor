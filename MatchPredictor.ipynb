{
 "cells": [
  {
   "cell_type": "markdown",
   "metadata": {},
   "source": [
    "# Soccer Match Predictor "
   ]
  },
  {
   "cell_type": "markdown",
   "metadata": {},
   "source": [
    "Our goal is to predict the winner of a soccer match using the Poisson distribution. I'm a fan of the Serie A, so we'll use data from the first 37 matches of the 2017/18 season to try and predict the outcome of the final matchday. "
   ]
  },
  {
   "cell_type": "markdown",
   "metadata": {},
   "source": [
    "## Import Data"
   ]
  },
  {
   "cell_type": "code",
   "execution_count": 3,
   "metadata": {},
   "outputs": [
    {
     "data": {
      "text/html": [
       "<div>\n",
       "<style scoped>\n",
       "    .dataframe tbody tr th:only-of-type {\n",
       "        vertical-align: middle;\n",
       "    }\n",
       "\n",
       "    .dataframe tbody tr th {\n",
       "        vertical-align: top;\n",
       "    }\n",
       "\n",
       "    .dataframe thead th {\n",
       "        text-align: right;\n",
       "    }\n",
       "</style>\n",
       "<table border=\"1\" class=\"dataframe\">\n",
       "  <thead>\n",
       "    <tr style=\"text-align: right;\">\n",
       "      <th></th>\n",
       "      <th>Div</th>\n",
       "      <th>Date</th>\n",
       "      <th>HomeTeam</th>\n",
       "      <th>AwayTeam</th>\n",
       "      <th>FTHG</th>\n",
       "      <th>FTAG</th>\n",
       "      <th>FTR</th>\n",
       "      <th>HTHG</th>\n",
       "      <th>HTAG</th>\n",
       "      <th>HTR</th>\n",
       "      <th>...</th>\n",
       "      <th>BbAv&lt;2.5</th>\n",
       "      <th>BbAH</th>\n",
       "      <th>BbAHh</th>\n",
       "      <th>BbMxAHH</th>\n",
       "      <th>BbAvAHH</th>\n",
       "      <th>BbMxAHA</th>\n",
       "      <th>BbAvAHA</th>\n",
       "      <th>PSCH</th>\n",
       "      <th>PSCD</th>\n",
       "      <th>PSCA</th>\n",
       "    </tr>\n",
       "  </thead>\n",
       "  <tbody>\n",
       "    <tr>\n",
       "      <th>0</th>\n",
       "      <td>I1</td>\n",
       "      <td>19/08/17</td>\n",
       "      <td>Juventus</td>\n",
       "      <td>Cagliari</td>\n",
       "      <td>3</td>\n",
       "      <td>0</td>\n",
       "      <td>H</td>\n",
       "      <td>2</td>\n",
       "      <td>0</td>\n",
       "      <td>H</td>\n",
       "      <td>...</td>\n",
       "      <td>2.41</td>\n",
       "      <td>16</td>\n",
       "      <td>-2.00</td>\n",
       "      <td>1.83</td>\n",
       "      <td>1.80</td>\n",
       "      <td>2.13</td>\n",
       "      <td>2.07</td>\n",
       "      <td>1.13</td>\n",
       "      <td>9.74</td>\n",
       "      <td>27.70</td>\n",
       "    </tr>\n",
       "    <tr>\n",
       "      <th>1</th>\n",
       "      <td>I1</td>\n",
       "      <td>19/08/17</td>\n",
       "      <td>Verona</td>\n",
       "      <td>Napoli</td>\n",
       "      <td>1</td>\n",
       "      <td>3</td>\n",
       "      <td>A</td>\n",
       "      <td>0</td>\n",
       "      <td>2</td>\n",
       "      <td>A</td>\n",
       "      <td>...</td>\n",
       "      <td>2.29</td>\n",
       "      <td>16</td>\n",
       "      <td>1.25</td>\n",
       "      <td>1.98</td>\n",
       "      <td>1.95</td>\n",
       "      <td>1.97</td>\n",
       "      <td>1.92</td>\n",
       "      <td>8.37</td>\n",
       "      <td>5.21</td>\n",
       "      <td>1.41</td>\n",
       "    </tr>\n",
       "    <tr>\n",
       "      <th>2</th>\n",
       "      <td>I1</td>\n",
       "      <td>20/08/17</td>\n",
       "      <td>Atalanta</td>\n",
       "      <td>Roma</td>\n",
       "      <td>0</td>\n",
       "      <td>1</td>\n",
       "      <td>A</td>\n",
       "      <td>0</td>\n",
       "      <td>1</td>\n",
       "      <td>A</td>\n",
       "      <td>...</td>\n",
       "      <td>2.06</td>\n",
       "      <td>16</td>\n",
       "      <td>0.25</td>\n",
       "      <td>1.91</td>\n",
       "      <td>1.88</td>\n",
       "      <td>2.04</td>\n",
       "      <td>1.99</td>\n",
       "      <td>2.99</td>\n",
       "      <td>3.44</td>\n",
       "      <td>2.53</td>\n",
       "    </tr>\n",
       "    <tr>\n",
       "      <th>3</th>\n",
       "      <td>I1</td>\n",
       "      <td>20/08/17</td>\n",
       "      <td>Bologna</td>\n",
       "      <td>Torino</td>\n",
       "      <td>1</td>\n",
       "      <td>1</td>\n",
       "      <td>D</td>\n",
       "      <td>1</td>\n",
       "      <td>1</td>\n",
       "      <td>D</td>\n",
       "      <td>...</td>\n",
       "      <td>1.75</td>\n",
       "      <td>16</td>\n",
       "      <td>0.25</td>\n",
       "      <td>1.90</td>\n",
       "      <td>1.87</td>\n",
       "      <td>2.06</td>\n",
       "      <td>2.00</td>\n",
       "      <td>3.35</td>\n",
       "      <td>3.47</td>\n",
       "      <td>2.31</td>\n",
       "    </tr>\n",
       "    <tr>\n",
       "      <th>4</th>\n",
       "      <td>I1</td>\n",
       "      <td>20/08/17</td>\n",
       "      <td>Crotone</td>\n",
       "      <td>Milan</td>\n",
       "      <td>0</td>\n",
       "      <td>3</td>\n",
       "      <td>A</td>\n",
       "      <td>0</td>\n",
       "      <td>3</td>\n",
       "      <td>A</td>\n",
       "      <td>...</td>\n",
       "      <td>2.06</td>\n",
       "      <td>17</td>\n",
       "      <td>1.00</td>\n",
       "      <td>1.89</td>\n",
       "      <td>1.85</td>\n",
       "      <td>2.08</td>\n",
       "      <td>2.02</td>\n",
       "      <td>7.42</td>\n",
       "      <td>4.37</td>\n",
       "      <td>1.52</td>\n",
       "    </tr>\n",
       "  </tbody>\n",
       "</table>\n",
       "<p>5 rows × 64 columns</p>\n",
       "</div>"
      ],
      "text/plain": [
       "  Div      Date  HomeTeam  AwayTeam  FTHG  FTAG FTR  HTHG  HTAG HTR  ...    \\\n",
       "0  I1  19/08/17  Juventus  Cagliari     3     0   H     2     0   H  ...     \n",
       "1  I1  19/08/17    Verona    Napoli     1     3   A     0     2   A  ...     \n",
       "2  I1  20/08/17  Atalanta      Roma     0     1   A     0     1   A  ...     \n",
       "3  I1  20/08/17   Bologna    Torino     1     1   D     1     1   D  ...     \n",
       "4  I1  20/08/17   Crotone     Milan     0     3   A     0     3   A  ...     \n",
       "\n",
       "   BbAv<2.5  BbAH  BbAHh  BbMxAHH  BbAvAHH  BbMxAHA  BbAvAHA  PSCH  PSCD  \\\n",
       "0      2.41    16  -2.00     1.83     1.80     2.13     2.07  1.13  9.74   \n",
       "1      2.29    16   1.25     1.98     1.95     1.97     1.92  8.37  5.21   \n",
       "2      2.06    16   0.25     1.91     1.88     2.04     1.99  2.99  3.44   \n",
       "3      1.75    16   0.25     1.90     1.87     2.06     2.00  3.35  3.47   \n",
       "4      2.06    17   1.00     1.89     1.85     2.08     2.02  7.42  4.37   \n",
       "\n",
       "    PSCA  \n",
       "0  27.70  \n",
       "1   1.41  \n",
       "2   2.53  \n",
       "3   2.31  \n",
       "4   1.52  \n",
       "\n",
       "[5 rows x 64 columns]"
      ]
     },
     "execution_count": 3,
     "metadata": {},
     "output_type": "execute_result"
    }
   ],
   "source": [
    "import pandas as pd\n",
    "seriea_df = pd.read_csv('seriea1718.csv')\n",
    "seriea_df.head()"
   ]
  },
  {
   "cell_type": "markdown",
   "metadata": {},
   "source": [
    "The only columns that we're interested in are home team, away team, home team goals, and away team goals."
   ]
  },
  {
   "cell_type": "code",
   "execution_count": 4,
   "metadata": {},
   "outputs": [
    {
     "data": {
      "text/html": [
       "<div>\n",
       "<style scoped>\n",
       "    .dataframe tbody tr th:only-of-type {\n",
       "        vertical-align: middle;\n",
       "    }\n",
       "\n",
       "    .dataframe tbody tr th {\n",
       "        vertical-align: top;\n",
       "    }\n",
       "\n",
       "    .dataframe thead th {\n",
       "        text-align: right;\n",
       "    }\n",
       "</style>\n",
       "<table border=\"1\" class=\"dataframe\">\n",
       "  <thead>\n",
       "    <tr style=\"text-align: right;\">\n",
       "      <th></th>\n",
       "      <th>Home</th>\n",
       "      <th>Away</th>\n",
       "      <th>HomeGoals</th>\n",
       "      <th>AwayGoals</th>\n",
       "    </tr>\n",
       "  </thead>\n",
       "  <tbody>\n",
       "    <tr>\n",
       "      <th>0</th>\n",
       "      <td>Juventus</td>\n",
       "      <td>Cagliari</td>\n",
       "      <td>3</td>\n",
       "      <td>0</td>\n",
       "    </tr>\n",
       "    <tr>\n",
       "      <th>1</th>\n",
       "      <td>Verona</td>\n",
       "      <td>Napoli</td>\n",
       "      <td>1</td>\n",
       "      <td>3</td>\n",
       "    </tr>\n",
       "    <tr>\n",
       "      <th>2</th>\n",
       "      <td>Atalanta</td>\n",
       "      <td>Roma</td>\n",
       "      <td>0</td>\n",
       "      <td>1</td>\n",
       "    </tr>\n",
       "    <tr>\n",
       "      <th>3</th>\n",
       "      <td>Bologna</td>\n",
       "      <td>Torino</td>\n",
       "      <td>1</td>\n",
       "      <td>1</td>\n",
       "    </tr>\n",
       "    <tr>\n",
       "      <th>4</th>\n",
       "      <td>Crotone</td>\n",
       "      <td>Milan</td>\n",
       "      <td>0</td>\n",
       "      <td>3</td>\n",
       "    </tr>\n",
       "  </tbody>\n",
       "</table>\n",
       "</div>"
      ],
      "text/plain": [
       "       Home      Away  HomeGoals  AwayGoals\n",
       "0  Juventus  Cagliari          3          0\n",
       "1    Verona    Napoli          1          3\n",
       "2  Atalanta      Roma          0          1\n",
       "3   Bologna    Torino          1          1\n",
       "4   Crotone     Milan          0          3"
      ]
     },
     "execution_count": 4,
     "metadata": {},
     "output_type": "execute_result"
    }
   ],
   "source": [
    "seriea_df = seriea_df[['HomeTeam', 'AwayTeam', 'FTHG','FTAG']]\n",
    "seriea_df = seriea_df.rename(index = str, columns = {'HomeTeam':'Home', 'AwayTeam': 'Away', 'FTHG': 'HomeGoals', 'FTAG': 'AwayGoals'})\n",
    "seriea_df.head()"
   ]
  },
  {
   "cell_type": "code",
   "execution_count": 5,
   "metadata": {},
   "outputs": [
    {
     "name": "stdout",
     "output_type": "stream",
     "text": [
      "Average number of goals per game for the home team:  1.4552631578947368\n",
      "Average number of goals per game for the away team:  1.2210526315789474\n"
     ]
    }
   ],
   "source": [
    "print('Average number of goals per game for the home team: ', seriea_df['HomeGoals'].mean())\n",
    "print('Average number of goals per game for the away team: ', seriea_df['AwayGoals'].mean())"
   ]
  },
  {
   "cell_type": "markdown",
   "metadata": {},
   "source": [
    "We can see that the home team has a goal scoring over the away team. "
   ]
  },
  {
   "cell_type": "markdown",
   "metadata": {},
   "source": [
    "## Why Poisson?"
   ]
  },
  {
   "cell_type": "code",
   "execution_count": 6,
   "metadata": {},
   "outputs": [],
   "source": [
    "import math\n",
    "import numpy as np\n",
    "import matplotlib.pyplot as plt"
   ]
  },
  {
   "cell_type": "markdown",
   "metadata": {},
   "source": [
    "The Poisson distribution is defined as $P(k)=\\frac{\\lambda ^{k}}{k!}e^{-k}$, where $\\lambda$ is the average number of goals per game by the given team and $k$ is the number of goals in a match. \n"
   ]
  },
  {
   "cell_type": "code",
   "execution_count": 8,
   "metadata": {},
   "outputs": [],
   "source": [
    "def poisson(k,l):\n",
    "    return (l**k*math.exp(-l))/math.factorial(k)"
   ]
  },
  {
   "cell_type": "markdown",
   "metadata": {},
   "source": [
    "A key assumption we are making is that goals scored is independent with time, i.e., the number of goals scored will not be more or less likely to happen based on the number of goals earlier. "
   ]
  },
  {
   "cell_type": "code",
   "execution_count": 9,
   "metadata": {},
   "outputs": [
    {
     "data": {
      "image/png": "[encoded data removed]",
      "text/plain": [
       "<Figure size 432x288 with 1 Axes>"
      ]
     },
     "metadata": {
      "needs_background": "light"
     },
     "output_type": "display_data"
    }
   ],
   "source": [
    "# Construct Poisson for each mean goals value\n",
    "poissonPred = np.column_stack([[poisson(i, seriea_df.mean()[j]) for i in range(7)] for j in range(2)])\n",
    "\n",
    "# plot histogram of actual goals\n",
    "plt.hist(seriea_df[['HomeGoals', 'AwayGoals']].values, range(8), label=['Home', 'Away'],density=True, color=[\"red\", \"blue\"])\n",
    "\n",
    "# add graphs of the Poisson distribution values\n",
    "plt.plot([i-0.5 for i in range(1,8)], poissonPred[:,0], linestyle='-', marker='x',label=\"Home\", color = 'orange')\n",
    "plt.plot([i-0.5 for i in range(1,8)], poissonPred[:,1], linestyle='-', marker='x',label=\"Away\", color = 'purple')\n",
    "\n",
    "leg=plt.legend(loc='upper right', fontsize=11, ncol=2)\n",
    "leg.set_title(\"Predicted       Actual      \", prop = {'size':'11', 'weight':'bold'})\n",
    "\n",
    "plt.xticks([i-0.5 for i in range(1,8)],[i for i in range(8)])\n",
    "plt.xlabel(\"Goals per Match\",size=12)\n",
    "plt.ylabel(\"Proportion of Matches\",size=12)\n",
    "plt.title(\"Serie A Number of Goals per Match\",size=14,fontweight='bold')\n",
    "plt.show()"
   ]
  },
  {
   "cell_type": "markdown",
   "metadata": {},
   "source": [
    "We can see that the Poisson distribution is pretty acurate at predicting goals per match. "
   ]
  },
  {
   "cell_type": "markdown",
   "metadata": {},
   "source": [
    "### Model"
   ]
  },
  {
   "cell_type": "code",
   "execution_count": 10,
   "metadata": {},
   "outputs": [],
   "source": [
    "# Remove the last week of matches\n",
    "seriea_df = seriea_df[:-10]"
   ]
  },
  {
   "cell_type": "code",
   "execution_count": 11,
   "metadata": {},
   "outputs": [],
   "source": [
    "# Calculating a team's attacking strength: (Team's mean goal/ Total mean goals for league)   \n",
    "def homeAttStrength( str):\n",
    "    teamHome = seriea_df[seriea_df['Home'].str.contains(str)] \n",
    "    return teamHome['HomeGoals'].mean()/seriea_df['HomeGoals'].mean()\n",
    "\n",
    "def awayAttStrength( str):\n",
    "    teamAway = seriea_df[seriea_df['Away'].str.contains(str)]  \n",
    "    return teamAway['AwayGoals'].mean()/seriea_df['AwayGoals'].mean()\n",
    "\n",
    "# Calculating a team's defensive strength: (Team's mean goal/ Total mean goals for league)   \n",
    "def homeDefStrength( str):\n",
    "    teamHome = seriea_df[seriea_df['Home'].str.contains(str)]  \n",
    "    return teamHome['AwayGoals'].mean()/seriea_df['AwayGoals'].mean()\n",
    "\n",
    "def awayDefStrength( str):\n",
    "    teamAway = seriea_df[seriea_df['Away'].str.contains(str)]  \n",
    "    return teamAway['HomeGoals'].mean()/seriea_df['HomeGoals'].mean()"
   ]
  },
  {
   "cell_type": "code",
   "execution_count": 16,
   "metadata": {},
   "outputs": [],
   "source": [
    "# Create predictor\n",
    "# t1 is the home team\n",
    "def matchOutcomes(t1,t2,max_goals):\n",
    "    t1goals = homeAttStrength(t1)*awayDefStrength(t2)*seriea_df['HomeGoals'].mean() #Computes home attack strength\n",
    "    t2goals = awayAttStrength(t2)*awayDefStrength(t1)*seriea_df['AwayGoals'].mean() #Computes away attack strength\n",
    "    team_pred1 = []\n",
    "    team_pred2 = []\n",
    "    for i in range(max_goals):\n",
    "        team_pred1.append(poisson(i,t1goals))\n",
    "    for j in range(max_goals):\n",
    "        team_pred2.append(poisson(j,t2goals))    \n",
    "    return(np.outer(np.array(team_pred1), np.array(team_pred2)))\n",
    "\n",
    "def predictMatch(t1,t2):\n",
    "    win =  np.sum(np.tril(matchOutcomes(t1, t2, max_goals=6), -1))\n",
    "    draw = np.sum(np.diag(matchOutcomes(t1, t2, max_goals=6)))\n",
    "    lose = np.sum(np.triu(matchOutcomes(t1, t2, max_goals=6), 1))\n",
    "    \n",
    "    if (win > draw) & (win > lose):\n",
    "        print(t1 , 'Wins with probability' , win, ' Probability of a draw: ',draw)\n",
    "    elif ( draw > win ) & (draw > lose):\n",
    "        print(t1, t2, 'Draw with probability', draw)\n",
    "    elif (lose > win ) & (lose > draw):\n",
    "        print(t2, 'Wins with probability' , lose, ' Probability of a draw: ',draw) "
   ]
  },
  {
   "cell_type": "markdown",
   "metadata": {},
   "source": [
    "The MatchOutcomes will spit out a 6x6 array of the probabilites for each final score. For example, consider the match: Sassuolo vs. As Roma, where Roma is the home team:"
   ]
  },
  {
   "cell_type": "code",
   "execution_count": 17,
   "metadata": {},
   "outputs": [
    {
     "data": {
      "text/plain": [
       "array([[9.24462343e-02, 2.00590695e-01, 2.17621774e-01, 1.57399247e-01,\n",
       "        8.53815856e-02, 3.70523510e-02],\n",
       "       [1.95356269e-02, 4.23885841e-02, 4.59875711e-02, 3.32614192e-02,\n",
       "        1.80427338e-02, 7.82985818e-03],\n",
       "       [2.06412257e-03, 4.47875226e-03, 4.85901906e-03, 3.51438152e-03,\n",
       "        1.90638439e-03, 8.27298099e-04],\n",
       "       [1.45395965e-04, 3.15481511e-04, 3.42267352e-04, 2.47551623e-04,\n",
       "        1.34284951e-04, 5.82745459e-05],\n",
       "       [7.68122505e-06, 1.66667932e-05, 1.80818811e-05, 1.30780777e-05,\n",
       "        7.09423352e-06, 3.07862671e-06],\n",
       "       [3.24637445e-07, 7.04401334e-07, 7.64208268e-07, 5.52728725e-07,\n",
       "        2.99828976e-07, 1.30114338e-07]])"
      ]
     },
     "execution_count": 17,
     "metadata": {},
     "output_type": "execute_result"
    }
   ],
   "source": [
    "matchOutcomes('Sassuolo', 'Roma', 6)"
   ]
  },
  {
   "cell_type": "markdown",
   "metadata": {},
   "source": [
    "The probability that the match finishes 0-1 in Roma's favor is about 20% (Actual outcome). The probability of a 1-1 draw is about 4%. \n"
   ]
  },
  {
   "cell_type": "markdown",
   "metadata": {},
   "source": [
    "To predict the probability of a home team win, we sum the elements below the diagonal. The trace will give the probability of a draw, and the sum of the elements above the diagonal will give the probability of an away win."
   ]
  },
  {
   "cell_type": "markdown",
   "metadata": {},
   "source": [
    "### Final week predictions"
   ]
  },
  {
   "cell_type": "code",
   "execution_count": 18,
   "metadata": {},
   "outputs": [
    {
     "name": "stdout",
     "output_type": "stream",
     "text": [
      "Juventus Wins with probability 0.7470023785872002  Probability of a draw:  0.055002535507762136\n",
      "Genoa Wins with probability 0.4865595615176665  Probability of a draw:  0.29294145102693997\n",
      "Napoli Wins with probability 0.7912991544042732  Probability of a draw:  0.06085699717809239\n",
      "Chievo Wins with probability 0.648659058207451  Probability of a draw:  0.20838758684512587\n",
      "Atalanta Wins with probability 0.5979340084913949  Probability of a draw:  0.2370398068273471\n",
      "Fiorentina Wins with probability 0.4965123763870239  Probability of a draw:  0.2782393890984025\n",
      "Spal Wins with probability 0.4478256049302647  Probability of a draw:  0.2561942319095091\n",
      "Udinese Wins with probability 0.411524267029562  Probability of a draw:  0.28666937265574044\n",
      "Inter Wins with probability 0.4526345902456903  Probability of a draw:  0.2600505170321492\n",
      "Roma Wins with probability 0.8096109364267624  Probability of a draw:  0.13994861346028098\n"
     ]
    }
   ],
   "source": [
    "predictMatch('Juventus','Verona')\n",
    "predictMatch('Genoa','Torino')\n",
    "predictMatch('Napoli','Crotone')\n",
    "predictMatch('Chievo','Benevento')\n",
    "predictMatch('Cagliari','Atalanta')\n",
    "predictMatch('Milan','Fiorentina')\n",
    "predictMatch('Spal','Sampdoria')\n",
    "predictMatch('Udinese','Bologna')\n",
    "predictMatch('Lazio','Inter')\n",
    "predictMatch('Sassuolo','Roma')"
   ]
  },
  {
   "cell_type": "markdown",
   "metadata": {},
   "source": [
    "Actual winners: <br>\n",
    "Juventus <br>\n",
    "Torino <br>\n",
    "Napoli   <br>\n",
    "Chievo <br>\n",
    "Cagliari <br>\n",
    "Ac Milan <br>\n",
    "Spal <br>\n",
    "Udinese <br> \n",
    "Inter <br> \n",
    "Roma"
   ]
  },
  {
   "cell_type": "markdown",
   "metadata": {},
   "source": [
    "The model predicted the correct result for 7 of the 10 matches.\n"
   ]
  },
  {
   "cell_type": "markdown",
   "metadata": {},
   "source": [
    "## Improvements"
   ]
  },
  {
   "cell_type": "markdown",
   "metadata": {},
   "source": [
    "We built a relatively simple model using important features like home field advantage, home attack strength, etc., to predict the outcome of a soccer match. This model doesn't really put much weight on the recent form of a team. A more complicated model can use data such as form of individual players, weather conditions, and head to head history. <br>\n",
    "<br>\n",
    "In summary, this is a great starting point for building a more sophisticated model."
   ]
  }
 ],
 "metadata": {
  "kernelspec": {
   "display_name": "Python 3",
   "language": "python",
   "name": "python3"
  },
  "language_info": {
   "codemirror_mode": {
    "name": "ipython",
    "version": 3
   },
   "file_extension": ".py",
   "mimetype": "text/x-python",
   "name": "python",
   "nbconvert_exporter": "python",
   "pygments_lexer": "ipython3",
   "version": "3.7.1"
  }
 },
 "nbformat": 4,
 "nbformat_minor": 2
}
